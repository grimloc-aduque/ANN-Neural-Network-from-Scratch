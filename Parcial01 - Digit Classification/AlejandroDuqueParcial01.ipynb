{
 "cells": [
  {
   "cell_type": "markdown",
   "id": "47bc817b-02e9-44f6-a7b9-a2bd09c0e913",
   "metadata": {},
   "source": [
    "## Informacion\n",
    "**Clase:** Redes Neuronales Artificiales\n",
    "\n",
    "**Nombre:** Alejandro Duque\n",
    "\n",
    "**Trabajo:** Parcial 1"
   ]
  },
  {
   "cell_type": "code",
   "execution_count": 1,
   "id": "c5902a01-4384-4447-a7b6-f4b10e5b47c6",
   "metadata": {},
   "outputs": [],
   "source": [
    "%matplotlib inline\n",
    "import numpy as np\n",
    "import pandas as pd\n",
    "import matplotlib.pyplot as plt\n",
    "import time\n",
    "from IPython import display"
   ]
  },
  {
   "cell_type": "markdown",
   "id": "bb70d3b1-ea98-4652-9b6b-49affe114145",
   "metadata": {},
   "source": [
    "# Introduccion\n",
    "En el presente trabajo se construirá un modelo Softmax para el reconocimiento de dígitos escritos a mano, se\n",
    "utilizará las bases de datos semeion de imágenes binarias y mnist en escala de grises. En semeion cada dígito del\n",
    "0 al 9 representa una clase, cada individuo está representado por 256 pixeles de una imagen binaria 16 × 16, donde\n",
    "cero representa un pixel negro y 1 representa un pixel blanco. En mnist los datos son ya conocidos."
   ]
  },
  {
   "cell_type": "markdown",
   "id": "553490a5-385e-46a6-ba52-273568c47e6a",
   "metadata": {},
   "source": [
    "# Ejercicio\n",
    "Lea el archivo semeion.csv , separe las primera 256 columnas en una matriz X y la últimas 10 columnas en una\n",
    "matriz Y de 10 columnas. Tome una fila de la matrix binaria X y conviértala en una matriz 16 × 16, y dibuje el\n",
    "dígito correspondiente. Repita el proceso eligiendo aleatoriamente 10 filas de X y mostrando el dígito respectivo al\n",
    "que corresponde.\n",
    "\n",
    "En cada fila de la matriz Y hay un solo uno, la posición que ocupa el 1 en la fila indica el dígito al cual\n",
    "corresponde la imagen."
   ]
  },
  {
   "cell_type": "code",
   "execution_count": 2,
   "id": "67a13138-7336-4245-b0a0-9f476a1b9e07",
   "metadata": {},
   "outputs": [],
   "source": [
    "# Cargo el archivo\n",
    "dataSemeion = np.array(pd.read_csv('./data/semeion.csv'))"
   ]
  },
  {
   "cell_type": "code",
   "execution_count": 3,
   "id": "1ec2a11b-e417-4f22-acaf-60104decfbfd",
   "metadata": {},
   "outputs": [],
   "source": [
    "# Genero las matrices X, Y\n",
    "X = dataSemeion[:,:256]\n",
    "Y = dataSemeion[:,-10:]"
   ]
  },
  {
   "cell_type": "code",
   "execution_count": 4,
   "id": "67366acc-3b5b-4178-987a-04b97d19b062",
   "metadata": {},
   "outputs": [
    {
     "data": {
      "text/plain": [
       "array([[1, 0, 0, ..., 0, 0, 0],\n",
       "       [1, 0, 0, ..., 0, 0, 0],\n",
       "       [1, 0, 0, ..., 0, 0, 0],\n",
       "       ...,\n",
       "       [0, 0, 0, ..., 0, 0, 1],\n",
       "       [0, 0, 0, ..., 0, 0, 1],\n",
       "       [0, 0, 0, ..., 0, 0, 1]], dtype=int64)"
      ]
     },
     "execution_count": 4,
     "metadata": {},
     "output_type": "execute_result"
    }
   ],
   "source": [
    "Y"
   ]
  },
  {
   "cell_type": "code",
   "execution_count": 5,
   "id": "795ad521-41a8-4e8e-945d-460842705d03",
   "metadata": {},
   "outputs": [
    {
     "data": {
      "text/plain": [
       "<matplotlib.image.AxesImage at 0x1e0dda35280>"
      ]
     },
     "execution_count": 5,
     "metadata": {},
     "output_type": "execute_result"
    },
    {
     "data": {
      "image/png": "[encoded data removed]",
      "text/plain": [
       "<Figure size 640x480 with 1 Axes>"
      ]
     },
     "metadata": {},
     "output_type": "display_data"
    }
   ],
   "source": [
    "# Grafico la primera imagen\n",
    "X1 = X[0,:]\n",
    "img = np.reshape(X1, (16,16))\n",
    "plt.imshow(img, cmap='gray')"
   ]
  },
  {
   "cell_type": "markdown",
   "id": "681770c5-3f4c-40b8-9bbf-d72f4b5b3141",
   "metadata": {},
   "source": [
    "# Generación de la Red Neuronal para clasificar dígitos.\n",
    "Cada dígito representa una clase, por lo tanto hay 10 clases. El estímulo que produce cada individuo (fila de X) tiene una longitud que depende de la base, en el caso de semeion, la longitud es de 256. Vamos a imaginar 10 perceptrones o neuronas (1 por cada clase), cada uno con 257 intérpretes (pesos), para entender la estimulación de cada perceptrón, supongamos que el perceptrón de la clase 4 (correspondiente al dígito 4) tiene los pesos $w_{1,4} , w_{2,4} , \\dotsc ,w_{256,4}, w_{257,4}$, entonces la interacción del iésimo individuo con el perceptrón de la clase 4 es $X_i^ \\cdot W_4 = \\sum_{j=1}^{257} x_{ij} w_{j4}$, donde $X_i^∗ = [ x_{i,1} \\; x_{i,2} \\; \\dotsc \\; x_{i,256} \\; 1 ]$. La iteracción de cada individuo con cada perceptrón se calcularía a través del producto matricial $W*X^t$ , donde cada columna de $X^t$ es un individuo y cada fila de la matriz W son los pesos de un perceptrón.\n",
    "\n",
    "Tomaremos como función de activación en el k-ésimo perceptrón a $f_k(z_k) = \\frac{e^{z_k}}{e^{z_0} + e^{z_1} + \\dotsc + e^{z_9}}$ , $k = 0, 1, \\dotsc , 9$. donde $z_k$ es la interacción producida por un individuo en el k-ésimo perceptrón. Al vector columna de probabilidades\n",
    "producido por las activaciones los denominaremos distribución estimada."
   ]
  },
  {
   "cell_type": "markdown",
   "id": "6f631243-e5c9-41fc-9ae7-ae23aaca5869",
   "metadata": {},
   "source": [
    "# Ejercicio\n",
    "Programe una función *msoft* de Python, que evalúe el campo vectorial $F (x_1, x_2 , \\dotsc, x_n ) = <f_1(x_1), \\dotsc, f_n(x_n)>.$\n"
   ]
  },
  {
   "cell_type": "code",
   "execution_count": 6,
   "id": "a0f93045-4f3e-4ed8-a79a-22692eaac7d7",
   "metadata": {},
   "outputs": [],
   "source": [
    "# Z es el vector <x_1,...,x_n>\n",
    "def msoft(Z):\n",
    "    ExpZ = np.exp(Z)\n",
    "    P = ExpZ / np.sum(ExpZ, axis=0)\n",
    "    return P"
   ]
  },
  {
   "cell_type": "markdown",
   "id": "5ad30056-eef2-4fc0-964e-0199adfd62bb",
   "metadata": {},
   "source": [
    "Ahora compararemos el vector de probabilidades $p$ del iésimo individuo con su representación en la iésima fila de Y , para ello utilizaremos la función de pérdida $L _i(p) = −\\sum_{k=0}^9 y_{ik} \\log p_k$ (entropía cruzada ). El problema ahora es mínimizar el promedio de las entropias cruzadas producidas por $m$ individuos, es decir la función:\n",
    "$$\n",
    "E_p = -\\frac{1}{m}\\sum_{i=1}^m L_i(p)\n",
    "$$\n"
   ]
  },
  {
   "cell_type": "code",
   "execution_count": 7,
   "id": "8b653ec8-550c-4446-8880-68e368176dd5",
   "metadata": {},
   "outputs": [],
   "source": [
    "# Recibe la matriz P de probabilidades de output que genera la red\n",
    "# y la matriz Y de labels conocidas\n",
    "def entropiaCruzada(P, Y):\n",
    "    Li = np.sum(np.transpose(Y) * np.log(P), axis=0)\n",
    "    Ep = -np.average(Li)\n",
    "    return Ep"
   ]
  },
  {
   "cell_type": "markdown",
   "id": "42efe75c-b0bc-4759-8715-164bb2f9ec5e",
   "metadata": {
    "tags": []
   },
   "source": [
    "# Problemas"
   ]
  },
  {
   "cell_type": "markdown",
   "id": "868eef2d-41c1-48f4-b267-f0e219cfdba5",
   "metadata": {
    "tags": []
   },
   "source": [
    "##\n",
    "Divida la base de datos semeion en dos grupos uno de entrenamiento y otro de prueba, tome 1200 elementos de manera aleatoria en el grupo de prueba, imprima los primeros 50 índices obtenidos de este grupo."
   ]
  },
  {
   "cell_type": "code",
   "execution_count": 8,
   "id": "4dc4c431-b11d-46cd-aca8-a6aa9e386961",
   "metadata": {},
   "outputs": [
    {
     "name": "stdout",
     "output_type": "stream",
     "text": [
      "[ 206  997 1557  171 1038  670  504 1015  316 1575 1025 1080   40 1211\n",
      " 1443   71  995  155 1293  920 1313  470 1262  967 1304  552  755  441\n",
      " 1072  532  616  226 1016 1545   15  305   95  889 1174  642  230 1231\n",
      "  714  473  413  630  580  612  760  933]\n"
     ]
    }
   ],
   "source": [
    "# Numero de imagenes en dataSemeion\n",
    "numData = len(dataSemeion)\n",
    "\n",
    "# Genero un ordenamiento aleatorio de indices\n",
    "ind = np.arange(0, numData, dtype=int)\n",
    "ind = np.random.permutation(ind)\n",
    "\n",
    "# Selecciono indices para train y test\n",
    "# La clase train debe ser mas grade que test\n",
    "indTrain = ind[0:1200]\n",
    "indTest = ind[1200:]\n",
    "\n",
    "# Agrego el bias a X\n",
    "X = np.c_[X, np.ones(1592)]\n",
    "\n",
    "# Separo X en train y test\n",
    "XTrain = X[indTrain]\n",
    "XTest = X[indTest]\n",
    "\n",
    "# Separo Y en train y test\n",
    "YTrain = Y[indTrain]\n",
    "YTest = Y[indTest]\n",
    "\n",
    "# Imprimo los primeros 50 indices del grupo de prueba (test)\n",
    "print(indTest[0:50])"
   ]
  },
  {
   "cell_type": "markdown",
   "id": "903b5e2f-fc72-4d1e-9972-2257a532dc3d",
   "metadata": {},
   "source": [
    "Queda comprobado que la selección aleatoria de los índices si está funcionando."
   ]
  },
  {
   "cell_type": "markdown",
   "id": "76b91c12-e595-46fa-ac90-a3f4bb9df238",
   "metadata": {},
   "source": [
    "##\n",
    "Programe una función $mgrad$ para calcular el gradiente de $Ep$ con respecto de los pesos. Recuerde aplicar la regla de la cadena."
   ]
  },
  {
   "cell_type": "code",
   "execution_count": 9,
   "id": "c8e08b59-8f88-493f-8ac1-78dbb2ad458b",
   "metadata": {},
   "outputs": [],
   "source": [
    "# Recibe el tensor de estimulos X, la matriz de labels que conocemos Y\n",
    "# y las probabilidades de output que genera la red en P\n",
    "def mgrad(X, Y, P):\n",
    "    # Calculo las derivadas con respecto a todos los pesos\n",
    "    # dLdZ es p - 1 cuando el individuo pertenece a la clase\n",
    "    # dLdZ es p - 0 cuando el individuo no pertenece a la clase\n",
    "    # Restar a P la transpuesta de Y cumple justo ese proposito\n",
    "    dLdZ = P - np.transpose(Y)\n",
    "    dZdW = X\n",
    "    # Aplico la regla de la cadena\n",
    "    dLdW = np.matmul(dLdZ, dZdW)\n",
    "    return dLdW  "
   ]
  },
  {
   "cell_type": "markdown",
   "id": "0717436e-84fc-43dc-acec-d005d1f335b6",
   "metadata": {},
   "source": [
    "## \n",
    "Programe un función $redn$ en Python que use el método del gradiente descendiente, tomando subconjuntos (bunch o batch) de tamaño 50 y 50 épocas por defecto, para encontrar el conjunto de pesos que minimizan $E_p$. Realice experimentos variando el número de épocas hasta conseguir porcentajes de imágenes bien clasificadas mayores o iguales al 90% en cada clase sobre el conjunto de entrenamiento. La función debe devolver los pesos y el vector de pérdida total en cada iteración"
   ]
  },
  {
   "cell_type": "code",
   "execution_count": 10,
   "id": "4cdbe68a-83af-4cd3-b7be-393ace9ffb97",
   "metadata": {},
   "outputs": [],
   "source": [
    "# Ajusta los parametros de la red mediante descenso de gradiente\n",
    "# Recibe el tensor de estimulos, la matriz Y de labels y el numero de pesos\n",
    "def redn(X, Y, numParam, sizeBunch = 50, numEpoch = 50, step = 0.01, standarize = False):\n",
    "    # Genero pesos aleatorios\n",
    "    W = np.random.normal(size = numParam) \n",
    "    # Genero la particion que usaré para toda la búsqueda\n",
    "    Partition = particionar(len(Y), sizeBunch)\n",
    "    # Inicializo la perdida\n",
    "    Loss = []\n",
    "    # Ciclo de busqueda\n",
    "    for i in range(numEpoch) :\n",
    "        # Realizo un cubrimiento de la particion (Epoch)\n",
    "        for bunch in Partition:\n",
    "            # Capacidad interpretacion\n",
    "            Z = np.matmul(W, np.transpose(X))\n",
    "            # Estandarizo de ser necesario para evitar overflows\n",
    "            if(standarize):\n",
    "                Z = (Z - np.mean(Z))/ np.std(Z) * 3\n",
    "            # Probabilidades obtenidas en softmax\n",
    "            P = msoft(Z)\n",
    "            # Gradiente\n",
    "            grad = mgrad(X[bunch, :], Y[bunch, :], P[:, bunch])\n",
    "            # Actualizo pesos\n",
    "            W = W - step *  grad \n",
    "            # Calculo perdida en la iteracion\n",
    "            Loss.append(entropiaCruzada(P, Y))\n",
    "    # Evaluo la clasificacion\n",
    "    probarClasificacion(P, Y)\n",
    "    return(W, Loss)\n",
    "\n",
    "\n",
    "# Genera una particion de los datos\n",
    "def particionar(numData, sizeBunch):\n",
    "    # Genero indices aleatorios\n",
    "    ind = np.arange(0, numData, dtype=int)\n",
    "    ind = np.random.permutation(ind) \n",
    "    # Creo la particion para cubrir el conjunto de los indices\n",
    "    numBunch = numData // sizeBunch\n",
    "    partition = []\n",
    "    # Agrego elementos a la particion\n",
    "    for i in range(numBunch):\n",
    "        partition.append(ind[i*sizeBunch:(i+1)*sizeBunch])\n",
    "    # Evaluo si la particion es regular\n",
    "    sizeLastBunch = numData % sizeBunch\n",
    "    # Si no es regular incluyo al ultimo el Bunch mas pequeño\n",
    "    if(sizeLastBunch != 0):\n",
    "        partition.append(ind[-sizeLastBunch:])\n",
    "    return partition\n",
    "\n",
    "# Clasifica usando validacion cruzada\n",
    "def probarClasificacion(P, Y):\n",
    "    # Clasificacion total\n",
    "    PClass = np.argmax(P, axis = 0)\n",
    "    YClass = np.argmax(Y, axis = 1)\n",
    "    porcentaje = np.sum(PClass == YClass) * 100 / len(PClass)\n",
    "    porcentaje = round(porcentaje, 2)\n",
    "    print(f'Se clasificaron bien el {porcentaje}% de todas las imagenes\\n')\n",
    "    # Clasificacion por cada label\n",
    "    print('Validacion cruzada:')\n",
    "    for i in range(10):\n",
    "        # Tomo los indices de la clase i y comparo con su clasificacion del modelo\n",
    "        bien = np.sum(PClass[YClass == i] == i) * 100 / sum(YClass == i)\n",
    "        bien = round(bien, 2)\n",
    "        mal = round(100 - bien, 2)\n",
    "        print(f'Porcentaje de la clase {i} bien clasificados: {bien}% ')\n",
    "        print(f'Porcentaje de la clase {i} mal clasificados:  {mal}% \\n')\n"
   ]
  },
  {
   "cell_type": "code",
   "execution_count": 11,
   "id": "9aabe517-e3a7-46f4-bd38-19e94bcbf60d",
   "metadata": {},
   "outputs": [
    {
     "name": "stdout",
     "output_type": "stream",
     "text": [
      "Se clasificaron bien el 99.67% de todas las imagenes\n",
      "\n",
      "Validacion cruzada:\n",
      "Porcentaje de la clase 0 bien clasificados: 100.0% \n",
      "Porcentaje de la clase 0 mal clasificados:  0.0% \n",
      "\n",
      "Porcentaje de la clase 1 bien clasificados: 99.18% \n",
      "Porcentaje de la clase 1 mal clasificados:  0.82% \n",
      "\n",
      "Porcentaje de la clase 2 bien clasificados: 99.14% \n",
      "Porcentaje de la clase 2 mal clasificados:  0.86% \n",
      "\n",
      "Porcentaje de la clase 3 bien clasificados: 100.0% \n",
      "Porcentaje de la clase 3 mal clasificados:  0.0% \n",
      "\n",
      "Porcentaje de la clase 4 bien clasificados: 99.17% \n",
      "Porcentaje de la clase 4 mal clasificados:  0.83% \n",
      "\n",
      "Porcentaje de la clase 5 bien clasificados: 100.0% \n",
      "Porcentaje de la clase 5 mal clasificados:  0.0% \n",
      "\n",
      "Porcentaje de la clase 6 bien clasificados: 100.0% \n",
      "Porcentaje de la clase 6 mal clasificados:  0.0% \n",
      "\n",
      "Porcentaje de la clase 7 bien clasificados: 100.0% \n",
      "Porcentaje de la clase 7 mal clasificados:  0.0% \n",
      "\n",
      "Porcentaje de la clase 8 bien clasificados: 99.15% \n",
      "Porcentaje de la clase 8 mal clasificados:  0.85% \n",
      "\n",
      "Porcentaje de la clase 9 bien clasificados: 100.0% \n",
      "Porcentaje de la clase 9 mal clasificados:  0.0% \n",
      "\n"
     ]
    }
   ],
   "source": [
    "# Entreno el modelo\n",
    "W, Loss = redn(XTrain, YTrain, (10, 257), sizeBunch = 50, numEpoch = 30, step = 0.01)"
   ]
  },
  {
   "cell_type": "markdown",
   "id": "900482ab-56cc-4fb3-9607-23cc08c8071e",
   "metadata": {},
   "source": [
    "Al hacer experimentos variando los hiperparámetros se halló que no hacen falta llevar a cabo las 50 épocas propuestas inicialmente. Con un número de únicamente 30 épocas se obtienen resultados muy satisfactorios sobre los datos de entrenamiento, pues se llega a clasificar bien el 99% de las imágenes"
   ]
  },
  {
   "cell_type": "markdown",
   "id": "8a165f2e-c5dd-4b86-88f9-03c30860933a",
   "metadata": {},
   "source": [
    "##\n",
    "Utilice los pesos obtenidos en el numeral anterior para predecir la clase correspondiente sobre el conjunto de datos de prueba, reporte el porcentaje de bien clasificados por el modelo en cada clase, también reporte los porcentajes de mal clasificados en cada clase (validación cruzada)."
   ]
  },
  {
   "cell_type": "code",
   "execution_count": 12,
   "id": "0154a357-a599-4b32-9305-fc0a45a8e3ed",
   "metadata": {},
   "outputs": [
    {
     "name": "stdout",
     "output_type": "stream",
     "text": [
      "Se clasificaron bien el 82.65% de todas las imagenes\n",
      "\n",
      "Validacion cruzada:\n",
      "Porcentaje de la clase 0 bien clasificados: 97.44% \n",
      "Porcentaje de la clase 0 mal clasificados:  2.56% \n",
      "\n",
      "Porcentaje de la clase 1 bien clasificados: 80.0% \n",
      "Porcentaje de la clase 1 mal clasificados:  20.0% \n",
      "\n",
      "Porcentaje de la clase 2 bien clasificados: 69.77% \n",
      "Porcentaje de la clase 2 mal clasificados:  30.23% \n",
      "\n",
      "Porcentaje de la clase 3 bien clasificados: 85.71% \n",
      "Porcentaje de la clase 3 mal clasificados:  14.29% \n",
      "\n",
      "Porcentaje de la clase 4 bien clasificados: 85.0% \n",
      "Porcentaje de la clase 4 mal clasificados:  15.0% \n",
      "\n",
      "Porcentaje de la clase 5 bien clasificados: 82.35% \n",
      "Porcentaje de la clase 5 mal clasificados:  17.65% \n",
      "\n",
      "Porcentaje de la clase 6 bien clasificados: 84.38% \n",
      "Porcentaje de la clase 6 mal clasificados:  15.62% \n",
      "\n",
      "Porcentaje de la clase 7 bien clasificados: 91.43% \n",
      "Porcentaje de la clase 7 mal clasificados:  8.57% \n",
      "\n",
      "Porcentaje de la clase 8 bien clasificados: 75.68% \n",
      "Porcentaje de la clase 8 mal clasificados:  24.32% \n",
      "\n",
      "Porcentaje de la clase 9 bien clasificados: 77.5% \n",
      "Porcentaje de la clase 9 mal clasificados:  22.5% \n",
      "\n"
     ]
    }
   ],
   "source": [
    "# Clasificacion del modelo sobre las imagenes de prueba (test)\n",
    "ZTest = np.matmul(W, np.transpose(XTest))\n",
    "PTest = msoft(ZTest)\n",
    "probarClasificacion(PTest, YTest)\n"
   ]
  },
  {
   "cell_type": "markdown",
   "id": "cd040221-748b-4900-9ef6-139f92eef2e2",
   "metadata": {},
   "source": [
    "El porcentaje de imágenes bien clasificadas fue del 83%, que es sustancialmente menor al 99% obtenido sobre los datos de prueba. Esto quiere decir que la capacidad de generalización de la red no es tan buena. También es un indicativo de que puede existir overfitting y para solucionarlo se necesitaría ampliar el conjunto de imágenes utilizadas en el entrenamiento"
   ]
  },
  {
   "cell_type": "markdown",
   "id": "a69c0d98-5984-40c4-a04b-214702b4f899",
   "metadata": {},
   "source": [
    "## \n",
    "Haga un gráfico de los valores de pérdida en cada iteración."
   ]
  },
  {
   "cell_type": "code",
   "execution_count": 13,
   "id": "bf779ad7-c9a8-4653-9829-0807e9e8048c",
   "metadata": {},
   "outputs": [
    {
     "data": {
      "image/png": "[encoded data removed]",
      "text/plain": [
       "<Figure size 640x480 with 1 Axes>"
      ]
     },
     "metadata": {},
     "output_type": "display_data"
    }
   ],
   "source": [
    "# Grafica la evolucion de la perdida con cada iteracion\n",
    "def graficarPerdida(Loss):\n",
    "    plt.figure()\n",
    "    iteracion = range(len(Loss))\n",
    "    plt.plot(iteracion, Loss)\n",
    "    plt.xlabel(\"Numero de iteracion\")\n",
    "    plt.ylabel(\"Perdida\")\n",
    "\n",
    "graficarPerdida(Loss)"
   ]
  },
  {
   "cell_type": "markdown",
   "id": "61d5b22e-36a2-423c-8755-7caed1cab87c",
   "metadata": {},
   "source": [
    "La gráfica de la pérdida tiene picos muy sutiles y en general desciende de manera suave. Esto sucede así porque en el entrenamiento se realizan cubrimientos de una misma partición de los datos. \n",
    "\n",
    "En la gráfica también se puede ver que a partir de la iteración 500 la pérdida llega a estabilizarse quedando muy cerca del 0. Por esta razón ya no es necesario seguir haciendo más iteraciones de descenso del gradiente."
   ]
  },
  {
   "cell_type": "markdown",
   "id": "a0f15750-e057-4aea-89e8-2e24777dbf0e",
   "metadata": {},
   "source": [
    "##\n",
    "Programe un función redna en Python que use el método del gradiente descendiente, tomando subconjuntos aleatorios (bunch o batch) de tamaño 50 en cada iteración, para encontrar el conjunto de pesos que minimizan $E_p$ . Realice experimentos variando el número máximo de iteraciones hasta conseguir porcentaje de imágenes bien clasificadas mayores o iguales al 90% en cada clase sobre el conjunto de entrenamiento. La función debe devolver los pesos, el vector de pérdida total en cada iteración y graficar la función de perdida de manera dinámica (hacer el gráfico en cada iteración)."
   ]
  },
  {
   "cell_type": "code",
   "execution_count": 14,
   "id": "bd89ebcc-09e3-4ca3-b8b0-7c07e83bf5cb",
   "metadata": {},
   "outputs": [],
   "source": [
    "# Ajusta los parametros de la red mediante descenso de gradiente\n",
    "def redna(X, Y, numParam, sizeBunch = 50, nmax = 400, step = 0.01, standarize = False, dynamicGraph = True):\n",
    "    # Genero pesos aleatorios\n",
    "    W = np.random.normal(size = numParam) \n",
    "    # Inicializo la perdida\n",
    "    Loss = []   \n",
    "    # Ciclo de busqueda\n",
    "    for i in range(nmax) :\n",
    "        # Genero el bunch aleatorio\n",
    "        ind = np.arange(0, len(Y), dtype=int)\n",
    "        ind = np.random.permutation(ind)\n",
    "        bunch = ind[0:sizeBunch]\n",
    "        # Capacidad interpretacion\n",
    "        Z = np.matmul(W, np.transpose(X))\n",
    "        # Estandarizo de ser necesario para evitar overflows\n",
    "        if(standarize):\n",
    "            Z = (Z - np.mean(Z))/ np.std(Z) * 3\n",
    "        # Probabilidades obtenidas en softmax\n",
    "        P = msoft(Z)\n",
    "        # Gradiente\n",
    "        grad = mgrad(X[bunch, :], Y[bunch, :], P[:, bunch])\n",
    "        # Actualizo pesos\n",
    "        W = W - step *  grad \n",
    "        # Calculo perdida en la iteracion\n",
    "        Loss.append(entropiaCruzada(P, Y))\n",
    "        # Actualizacion dinamica del grafico\n",
    "        if(dynamicGraph):\n",
    "            # Genero la nueva linea\n",
    "            line = plt.plot(range(len(Loss)), Loss)\n",
    "            # Muestro en pantalla el grafico\n",
    "            display.display(plt.gcf())\n",
    "            # Borro el output para mostrar un nuevo grafico\n",
    "            display.clear_output(wait = True)\n",
    "            # Elimino la linea del stack de plots\n",
    "            line.pop(0).remove()\n",
    "            \n",
    "    plt.plot(range(len(Loss)), Loss)\n",
    "    probarClasificacion(P, Y)\n",
    "    return(W, Loss)   "
   ]
  },
  {
   "cell_type": "code",
   "execution_count": 15,
   "id": "2f7535b1-d887-4b09-86b0-1e224be1fd4b",
   "metadata": {},
   "outputs": [
    {
     "name": "stdout",
     "output_type": "stream",
     "text": [
      "Se clasificaron bien el 98.0% de todas las imagenes\n",
      "\n",
      "Validacion cruzada:\n",
      "Porcentaje de la clase 0 bien clasificados: 98.35% \n",
      "Porcentaje de la clase 0 mal clasificados:  1.65% \n",
      "\n",
      "Porcentaje de la clase 1 bien clasificados: 98.36% \n",
      "Porcentaje de la clase 1 mal clasificados:  1.64% \n",
      "\n",
      "Porcentaje de la clase 2 bien clasificados: 99.14% \n",
      "Porcentaje de la clase 2 mal clasificados:  0.86% \n",
      "\n",
      "Porcentaje de la clase 3 bien clasificados: 97.58% \n",
      "Porcentaje de la clase 3 mal clasificados:  2.42% \n",
      "\n",
      "Porcentaje de la clase 4 bien clasificados: 98.35% \n",
      "Porcentaje de la clase 4 mal clasificados:  1.65% \n",
      "\n",
      "Porcentaje de la clase 5 bien clasificados: 100.0% \n",
      "Porcentaje de la clase 5 mal clasificados:  0.0% \n",
      "\n",
      "Porcentaje de la clase 6 bien clasificados: 99.22% \n",
      "Porcentaje de la clase 6 mal clasificados:  0.78% \n",
      "\n",
      "Porcentaje de la clase 7 bien clasificados: 98.37% \n",
      "Porcentaje de la clase 7 mal clasificados:  1.63% \n",
      "\n",
      "Porcentaje de la clase 8 bien clasificados: 96.61% \n",
      "Porcentaje de la clase 8 mal clasificados:  3.39% \n",
      "\n",
      "Porcentaje de la clase 9 bien clasificados: 94.07% \n",
      "Porcentaje de la clase 9 mal clasificados:  5.93% \n",
      "\n"
     ]
    },
    {
     "data": {
      "image/png": "[encoded data removed]",
      "text/plain": [
       "<Figure size 640x480 with 1 Axes>"
      ]
     },
     "metadata": {},
     "output_type": "display_data"
    }
   ],
   "source": [
    "# Entreno el modelo\n",
    "W, Loss = redna(XTrain, YTrain, (10, 257), sizeBunch = 50, nmax = 600, step = 0.01, dynamicGraph = False)\n",
    "# Cambiar dynamicGraph a True para generar el gráfico de la perdida de forma dinamica\n",
    "# No es recomendable usar dynamicGraph con nmax mayor a 100"
   ]
  },
  {
   "cell_type": "markdown",
   "id": "37a9c49f-19d9-463d-8923-e937a7b03591",
   "metadata": {},
   "source": [
    "En este caso se obtuvo una clasificación exitosa del 98% de las imágenes, que es ligeramente menor al obtenido en el literal anterior. \n",
    "\n",
    "Al usar bunchs aleatorios en cada iteracion se esperaría tener mas saltos en el algoritmo de descenso de gradiente. Sin embargo, la gráfica de pérdida es muy similar a la hallada con la función *redn*."
   ]
  },
  {
   "cell_type": "markdown",
   "id": "40671447-001f-4349-ad37-239b59f67b77",
   "metadata": {},
   "source": [
    "##\n",
    "Utilice los pesos obtenidos en el numeral anterior para predecir la clase correspondiente sobre el conjunto de datos de prueba, reporte el porcentaje de bien clasificados por el modelo en cada clase, también reporte los porcentajes de mal clasificados en cada clase (validación cruzada)."
   ]
  },
  {
   "cell_type": "code",
   "execution_count": 16,
   "id": "25ad12c5-b9a0-4074-9028-29424a2aa983",
   "metadata": {},
   "outputs": [
    {
     "name": "stdout",
     "output_type": "stream",
     "text": [
      "Se clasificaron bien el 83.42% de todas las imagenes\n",
      "\n",
      "Validacion cruzada:\n",
      "Porcentaje de la clase 0 bien clasificados: 94.87% \n",
      "Porcentaje de la clase 0 mal clasificados:  5.13% \n",
      "\n",
      "Porcentaje de la clase 1 bien clasificados: 82.5% \n",
      "Porcentaje de la clase 1 mal clasificados:  17.5% \n",
      "\n",
      "Porcentaje de la clase 2 bien clasificados: 83.72% \n",
      "Porcentaje de la clase 2 mal clasificados:  16.28% \n",
      "\n",
      "Porcentaje de la clase 3 bien clasificados: 74.29% \n",
      "Porcentaje de la clase 3 mal clasificados:  25.71% \n",
      "\n",
      "Porcentaje de la clase 4 bien clasificados: 80.0% \n",
      "Porcentaje de la clase 4 mal clasificados:  20.0% \n",
      "\n",
      "Porcentaje de la clase 5 bien clasificados: 84.31% \n",
      "Porcentaje de la clase 5 mal clasificados:  15.69% \n",
      "\n",
      "Porcentaje de la clase 6 bien clasificados: 100.0% \n",
      "Porcentaje de la clase 6 mal clasificados:  0.0% \n",
      "\n",
      "Porcentaje de la clase 7 bien clasificados: 88.57% \n",
      "Porcentaje de la clase 7 mal clasificados:  11.43% \n",
      "\n",
      "Porcentaje de la clase 8 bien clasificados: 75.68% \n",
      "Porcentaje de la clase 8 mal clasificados:  24.32% \n",
      "\n",
      "Porcentaje de la clase 9 bien clasificados: 72.5% \n",
      "Porcentaje de la clase 9 mal clasificados:  27.5% \n",
      "\n"
     ]
    }
   ],
   "source": [
    "# Probabilidad generada por el modelo sobre las imagenes de prueba (test)\n",
    "ZTest = np.matmul(W, np.transpose(XTest))\n",
    "PTest = msoft(ZTest)\n",
    "probarClasificacion(PTest, YTest)"
   ]
  },
  {
   "cell_type": "markdown",
   "id": "b525b150-f5d3-4836-bdfc-663ffbb49bad",
   "metadata": {},
   "source": [
    "La capacidad de generalización del modelo *redna* presenta los mismos problemas que la *redn*"
   ]
  },
  {
   "cell_type": "markdown",
   "id": "7423779d-2f80-4c86-9a5d-9821f3bd999c",
   "metadata": {},
   "source": [
    "##\n",
    "Repita los numerales desde el dos hasta el siete para los datos mnist de entrenamiento y de prueba dados. Haga iteraciones con subconjuntos de tamaño 500 y 50 épocas, en el caso aleatorio tome conjuntos de tamaño 500 también.\n"
   ]
  },
  {
   "cell_type": "code",
   "execution_count": 17,
   "id": "a8739c68-3868-4d1d-83f0-8212c401e98d",
   "metadata": {},
   "outputs": [],
   "source": [
    "# 8.2 La funcion de perdida y su gradiente son los mismos de antes"
   ]
  },
  {
   "cell_type": "code",
   "execution_count": 18,
   "id": "48b16da8-2e65-4041-9d3a-7df970c04973",
   "metadata": {},
   "outputs": [],
   "source": [
    "# 8.3\n",
    "# Cargo los datos\n",
    "mnistTrain = np.array(pd.read_csv('./data/mnist_train.csv'))\n",
    "mnistTest = np.array(pd.read_csv('./data/mnist_test.csv'))"
   ]
  },
  {
   "cell_type": "code",
   "execution_count": 19,
   "id": "b4f49a56-7e65-48e2-b15e-a870c8a758f8",
   "metadata": {},
   "outputs": [],
   "source": [
    "# Guardo el tensor X (con un bias) y las labels Y de Train\n",
    "XTrain = np.c_[mnistTrain[:,1:], np.ones(60000)]\n",
    "LabelsTrain = mnistTrain[:,0]\n",
    "\n",
    "# Guardo el tensor X (con un bias) y las labels Y de Test\n",
    "XTest = np.c_[mnistTest[:,1:], np.ones(10000)]\n",
    "LabelsTest = mnistTest[:,0]\n",
    "\n",
    "# Genero las variables dummies\n",
    "YTrain = np.zeros((60000, 10))\n",
    "for i in range(60000):\n",
    "    lab = LabelsTrain[i]\n",
    "    YTrain[i, lab] = 1\n",
    "\n",
    "YTest = np.zeros((10000, 10))\n",
    "for i in range(10000):\n",
    "    lab = LabelsTest[i]\n",
    "    YTest[i, lab] = 1"
   ]
  },
  {
   "cell_type": "code",
   "execution_count": 20,
   "id": "388ee764-02da-45e9-8d70-dd5bc7e40fac",
   "metadata": {},
   "outputs": [
    {
     "name": "stdout",
     "output_type": "stream",
     "text": [
      "Se clasificaron bien el 90.57% de todas las imagenes\n",
      "\n",
      "Validacion cruzada:\n",
      "Porcentaje de la clase 0 bien clasificados: 96.76% \n",
      "Porcentaje de la clase 0 mal clasificados:  3.24% \n",
      "\n",
      "Porcentaje de la clase 1 bien clasificados: 97.14% \n",
      "Porcentaje de la clase 1 mal clasificados:  2.86% \n",
      "\n",
      "Porcentaje de la clase 2 bien clasificados: 85.95% \n",
      "Porcentaje de la clase 2 mal clasificados:  14.05% \n",
      "\n",
      "Porcentaje de la clase 3 bien clasificados: 90.23% \n",
      "Porcentaje de la clase 3 mal clasificados:  9.77% \n",
      "\n",
      "Porcentaje de la clase 4 bien clasificados: 91.75% \n",
      "Porcentaje de la clase 4 mal clasificados:  8.25% \n",
      "\n",
      "Porcentaje de la clase 5 bien clasificados: 80.15% \n",
      "Porcentaje de la clase 5 mal clasificados:  19.85% \n",
      "\n",
      "Porcentaje de la clase 6 bien clasificados: 95.08% \n",
      "Porcentaje de la clase 6 mal clasificados:  4.92% \n",
      "\n",
      "Porcentaje de la clase 7 bien clasificados: 91.24% \n",
      "Porcentaje de la clase 7 mal clasificados:  8.76% \n",
      "\n",
      "Porcentaje de la clase 8 bien clasificados: 86.74% \n",
      "Porcentaje de la clase 8 mal clasificados:  13.26% \n",
      "\n",
      "Porcentaje de la clase 9 bien clasificados: 88.84% \n",
      "Porcentaje de la clase 9 mal clasificados:  11.16% \n",
      "\n"
     ]
    }
   ],
   "source": [
    "# Entreno la red\n",
    "W, Loss = redn(XTrain, YTrain, (10, 785), sizeBunch = 500, numEpoch = 5, step = 0.01, standarize = True)"
   ]
  },
  {
   "cell_type": "markdown",
   "id": "e58ff7ac-bca9-4f77-8fd8-5b0ab15009a9",
   "metadata": {},
   "source": [
    "El único cambio que tiene la funcion *redn* para clasificar las imagenes de Mnist en lugar de Semeion es que se requiere estandarizar la capacidad de interpretación Z. Esto se hace para evitar overflows al momento de pasar por la función *msoft*. También se decidió multiplicar a Z por un pequeño factor de escalamiento luego de estandarizar con el objetivo de que el gradiente no se desvanezca.\n",
    "\n",
    "Se realizaron varias pruebas y se halló que a partir de 5 épocas la mejora en la optimización de la función de pérdida era mínima. Se obtuvo un porcentaje de imagenes de prueba bien clasificadas de 90%, que es menor al obtenido usando los datos de Semeion. Esto se debe a que la cantidad de imágenes en Mnist es mucho mayor, al igual que el número de atributos (pixeles) por imagen. Ambas cosas aportan a que sea más complicado alcanzar un mínimo global de la función de pérdida."
   ]
  },
  {
   "cell_type": "code",
   "execution_count": 21,
   "id": "593ac112-1455-447a-8a0d-9134da14f2a2",
   "metadata": {},
   "outputs": [
    {
     "name": "stdout",
     "output_type": "stream",
     "text": [
      "Se clasificaron bien el 91.06% de todas las imagenes\n",
      "\n",
      "Validacion cruzada:\n",
      "Porcentaje de la clase 0 bien clasificados: 98.47% \n",
      "Porcentaje de la clase 0 mal clasificados:  1.53% \n",
      "\n",
      "Porcentaje de la clase 1 bien clasificados: 97.62% \n",
      "Porcentaje de la clase 1 mal clasificados:  2.38% \n",
      "\n",
      "Porcentaje de la clase 2 bien clasificados: 86.24% \n",
      "Porcentaje de la clase 2 mal clasificados:  13.76% \n",
      "\n",
      "Porcentaje de la clase 3 bien clasificados: 91.19% \n",
      "Porcentaje de la clase 3 mal clasificados:  8.81% \n",
      "\n",
      "Porcentaje de la clase 4 bien clasificados: 92.67% \n",
      "Porcentaje de la clase 4 mal clasificados:  7.33% \n",
      "\n",
      "Porcentaje de la clase 5 bien clasificados: 83.3% \n",
      "Porcentaje de la clase 5 mal clasificados:  16.7% \n",
      "\n",
      "Porcentaje de la clase 6 bien clasificados: 93.95% \n",
      "Porcentaje de la clase 6 mal clasificados:  6.05% \n",
      "\n",
      "Porcentaje de la clase 7 bien clasificados: 90.27% \n",
      "Porcentaje de la clase 7 mal clasificados:  9.73% \n",
      "\n",
      "Porcentaje de la clase 8 bien clasificados: 85.93% \n",
      "Porcentaje de la clase 8 mal clasificados:  14.07% \n",
      "\n",
      "Porcentaje de la clase 9 bien clasificados: 89.59% \n",
      "Porcentaje de la clase 9 mal clasificados:  10.41% \n",
      "\n"
     ]
    }
   ],
   "source": [
    "# 8.4\n",
    "# Clasificacion del modelo sobre las imagenes de prueba (test)\n",
    "ZTest = np.matmul(W, np.transpose(XTest))\n",
    "ZTest = (ZTest - np.mean(ZTest))/ np.std(ZTest)\n",
    "PTest = msoft(ZTest)\n",
    "probarClasificacion(PTest, YTest)"
   ]
  },
  {
   "cell_type": "markdown",
   "id": "e90a4b57-204e-4b9e-bfd3-ed5bba640921",
   "metadata": {},
   "source": [
    "En este caso, el porcentaje de imágenes bien clasificadas en test superó incluso al porcentaje obtenido en el entrenamiento. Esto quiere decir que la red neuronal entrenada sobre Mnist tiene una mayor capacidad de generalización que la red entrenada con Semeion. La razón es que se contó con más información de los inputs en forma de más instancias y atributos por instancia."
   ]
  },
  {
   "cell_type": "code",
   "execution_count": 22,
   "id": "a7ec7d72-34e5-4921-8cbb-0277d8de9a2f",
   "metadata": {},
   "outputs": [
    {
     "data": {
      "image/png": "[encoded data removed]",
      "text/plain": [
       "<Figure size 640x480 with 1 Axes>"
      ]
     },
     "metadata": {},
     "output_type": "display_data"
    }
   ],
   "source": [
    "# 8.5\n",
    "graficarPerdida(Loss)"
   ]
  },
  {
   "cell_type": "markdown",
   "id": "e2bfad3c-7a99-4146-8590-6ae07448def9",
   "metadata": {},
   "source": [
    "La gráfica de la pérdida es mucho más irregular en la red entrenada sobre Mnist. Al tener un conjunto de entrenamiento más grande puede suceder que en alguna iteración de descenso de gradiente el bunch seleccionado no sea representativo de todo el conjunto de datos. Esto provoca que el cambio en el gradiente que favorece a las imágenes del bunch favorezca en menor medida la función de pérdida global\n",
    "\n",
    "También se observa que la pérdida se acerca a 0 mucho más rápido, lo cual puede deberse a que se están utilizando bunchs más grandes que a su vez generan pasos del gradiente mayores."
   ]
  },
  {
   "cell_type": "code",
   "execution_count": 23,
   "id": "7bda51bb-4dce-403e-af4f-a22e3468c8f3",
   "metadata": {},
   "outputs": [
    {
     "name": "stdout",
     "output_type": "stream",
     "text": [
      "Se clasificaron bien el 90.64% de todas las imagenes\n",
      "\n",
      "Validacion cruzada:\n",
      "Porcentaje de la clase 0 bien clasificados: 96.45% \n",
      "Porcentaje de la clase 0 mal clasificados:  3.55% \n",
      "\n",
      "Porcentaje de la clase 1 bien clasificados: 97.05% \n",
      "Porcentaje de la clase 1 mal clasificados:  2.95% \n",
      "\n",
      "Porcentaje de la clase 2 bien clasificados: 86.56% \n",
      "Porcentaje de la clase 2 mal clasificados:  13.44% \n",
      "\n",
      "Porcentaje de la clase 3 bien clasificados: 88.65% \n",
      "Porcentaje de la clase 3 mal clasificados:  11.35% \n",
      "\n",
      "Porcentaje de la clase 4 bien clasificados: 93.2% \n",
      "Porcentaje de la clase 4 mal clasificados:  6.8% \n",
      "\n",
      "Porcentaje de la clase 5 bien clasificados: 84.32% \n",
      "Porcentaje de la clase 5 mal clasificados:  15.68% \n",
      "\n",
      "Porcentaje de la clase 6 bien clasificados: 95.07% \n",
      "Porcentaje de la clase 6 mal clasificados:  4.93% \n",
      "\n",
      "Porcentaje de la clase 7 bien clasificados: 91.46% \n",
      "Porcentaje de la clase 7 mal clasificados:  8.54% \n",
      "\n",
      "Porcentaje de la clase 8 bien clasificados: 84.98% \n",
      "Porcentaje de la clase 8 mal clasificados:  15.02% \n",
      "\n",
      "Porcentaje de la clase 9 bien clasificados: 87.28% \n",
      "Porcentaje de la clase 9 mal clasificados:  12.72% \n",
      "\n"
     ]
    },
    {
     "data": {
      "image/png": "[encoded data removed]",
      "text/plain": [
       "<Figure size 640x480 with 1 Axes>"
      ]
     },
     "metadata": {},
     "output_type": "display_data"
    }
   ],
   "source": [
    "# 8.6\n",
    "W, Loss = redna(XTrain, YTrain, (10, 785), sizeBunch = 500, nmax = 600, step = 0.01, standarize = True, dynamicGraph = False)"
   ]
  },
  {
   "cell_type": "markdown",
   "id": "6d73d37f-0eba-4f30-9671-bb920622af45",
   "metadata": {},
   "source": [
    "Con la *redna* entrenada sobre el dataset Mnist se hace la misma estandarización de los valores de Z para evitar overflows.\n",
    "\n",
    "Los resultados de usar bunchs aleatorios en cada iteración son muy parecidos a los obtenidos usando una única partición. El único cambio es que los picos de la pérdida son más pronunciados."
   ]
  },
  {
   "cell_type": "code",
   "execution_count": 24,
   "id": "723ca095-4312-4730-a7ed-7a591c133ac4",
   "metadata": {},
   "outputs": [
    {
     "name": "stdout",
     "output_type": "stream",
     "text": [
      "Se clasificaron bien el 91.05% de todas las imagenes\n",
      "\n",
      "Validacion cruzada:\n",
      "Porcentaje de la clase 0 bien clasificados: 97.65% \n",
      "Porcentaje de la clase 0 mal clasificados:  2.35% \n",
      "\n",
      "Porcentaje de la clase 1 bien clasificados: 97.44% \n",
      "Porcentaje de la clase 1 mal clasificados:  2.56% \n",
      "\n",
      "Porcentaje de la clase 2 bien clasificados: 86.05% \n",
      "Porcentaje de la clase 2 mal clasificados:  13.95% \n",
      "\n",
      "Porcentaje de la clase 3 bien clasificados: 90.2% \n",
      "Porcentaje de la clase 3 mal clasificados:  9.8% \n",
      "\n",
      "Porcentaje de la clase 4 bien clasificados: 92.97% \n",
      "Porcentaje de la clase 4 mal clasificados:  7.03% \n",
      "\n",
      "Porcentaje de la clase 5 bien clasificados: 84.98% \n",
      "Porcentaje de la clase 5 mal clasificados:  15.02% \n",
      "\n",
      "Porcentaje de la clase 6 bien clasificados: 94.68% \n",
      "Porcentaje de la clase 6 mal clasificados:  5.32% \n",
      "\n",
      "Porcentaje de la clase 7 bien clasificados: 91.05% \n",
      "Porcentaje de la clase 7 mal clasificados:  8.95% \n",
      "\n",
      "Porcentaje de la clase 8 bien clasificados: 86.14% \n",
      "Porcentaje de la clase 8 mal clasificados:  13.86% \n",
      "\n",
      "Porcentaje de la clase 9 bien clasificados: 88.21% \n",
      "Porcentaje de la clase 9 mal clasificados:  11.79% \n",
      "\n"
     ]
    }
   ],
   "source": [
    "# 8.7\n",
    "# Probabilidad generada por el modelo sobre las imagenes de prueba (test)\n",
    "ZTest = np.matmul(W, np.transpose(XTest))\n",
    "ZTest = (ZTest - np.mean(ZTest))/ np.std(ZTest)\n",
    "PTest = msoft(ZTest)\n",
    "probarClasificacion(PTest, YTest)\n"
   ]
  },
  {
   "cell_type": "markdown",
   "id": "2661e022-66f5-46d8-a457-588958901d3f",
   "metadata": {},
   "source": [
    "Nuevamente la generalización de la red neuronal demuestra ser mejor al usar Mnist para el entrenamiento en lugar de Semeion."
   ]
  }
 ],
 "metadata": {
  "kernelspec": {
   "display_name": "Python 3",
   "language": "python",
   "name": "python3"
  },
  "language_info": {
   "codemirror_mode": {
    "name": "ipython",
    "version": 3
   },
   "file_extension": ".py",
   "mimetype": "text/x-python",
   "name": "python",
   "nbconvert_exporter": "python",
   "pygments_lexer": "ipython3",
   "version": "3.9.13"
  },
  "vscode": {
   "interpreter": {
    "hash": "b5e66119bb7eb320cb615f17e3cf77c9243e0a63123323491c6aa600a9594b9f"
   }
  }
 },
 "nbformat": 4,
 "nbformat_minor": 5
}
